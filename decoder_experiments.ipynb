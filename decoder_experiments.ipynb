{
 "cells": [
  {
   "cell_type": "code",
   "execution_count": 1,
   "metadata": {},
   "outputs": [],
   "source": [
    "import tensorflow as tf\n",
    "tf.enable_eager_execution()\n",
    "from tensorflow.keras.layers import Lambda, Input, Embedding, Dense, TimeDistributed, Dropout, BatchNormalization, Add, SpatialDropout1D\n",
    "from tensorflow.keras.layers import CuDNNLSTM as LSTM\n",
    "\n",
    "vocab_size=30000\n",
    "inp=Input(batch_shape=(1,1,),dtype=tf.int64,name=\"input_sent\")\n",
    "emb_layer=Embedding(input_dim=vocab_size,output_dim=1500,embeddings_initializer=tf.keras.initializers.Constant(0.01))\n",
    "emb=emb_layer(inp)\n",
    "emb_do=SpatialDropout1D(0.5)(emb)\n",
    "emb_drop_n=BatchNormalization()(emb_do)\n",
    "rnn1=LSTM(1500,return_sequences=True,stateful=True)(emb_drop_n)\n",
    "rnn1_n=BatchNormalization()(rnn1)\n",
    "rnn2=LSTM(1500,return_sequences=True,stateful=True)(rnn1_n)\n",
    "rnn2_n=BatchNormalization()(rnn2)\n",
    "rnn3=LSTM(1500,return_sequences=True,stateful=True)(rnn2_n)\n",
    "rnn3_n=BatchNormalization()(rnn3)\n",
    "proj_weights=TimeDistributed(Dense(1500))(Add()([rnn1_n,rnn2_n,rnn3_n]))\n",
    "proj_weights_gelu=Lambda(lambda x: tf.multiply(x,tf.nn.sigmoid(tf.scalar_mul(1.702,x))))(proj_weights)\n",
    "dec=Dense(vocab_size,activation=\"softmax\",name=\"decision\")\n",
    "dec_td=TimeDistributed(dec)(proj_weights_gelu)\n",
    "mod=tf.keras.Model(inputs=[inp],outputs=[dec_td])\n"
   ]
  },
  {
   "cell_type": "code",
   "execution_count": 2,
   "metadata": {},
   "outputs": [],
   "source": [
    "mod.load_weights(\"/home/ginter/rnnlm_models/epoch.2019-03-24-00-00.00020.last.rnnlm\")"
   ]
  },
  {
   "cell_type": "code",
   "execution_count": 3,
   "metadata": {},
   "outputs": [],
   "source": [
    "import data\n",
    "dp=data.SubwordDataPipeline(\"spiece_vocab.sp\")\n"
   ]
  },
  {
   "cell_type": "code",
   "execution_count": 4,
   "metadata": {},
   "outputs": [
    {
     "data": {
      "text/plain": [
       "'<s>'"
      ]
     },
     "execution_count": 4,
     "metadata": {},
     "output_type": "execute_result"
    }
   ],
   "source": [
    "dp.subword_model.IdToPiece(2)"
   ]
  },
  {
   "cell_type": "code",
   "execution_count": 5,
   "metadata": {},
   "outputs": [],
   "source": [
    "def reset_model(m):\n",
    "    lstms=[l for l in m.layers if isinstance(l,tf.keras.layers.CuDNNLSTM)]\n",
    "    for l in lstms:\n",
    "        l.reset_states()"
   ]
  },
  {
   "cell_type": "code",
   "execution_count": 6,
   "metadata": {},
   "outputs": [
    {
     "name": "stdout",
     "output_type": "stream",
     "text": [
      "Prewarm: gissa\n",
      "Prewarm: ▁ja\n",
      "Prewarm: ▁ovat\n",
      "Prewarm: ▁muuttuneet\n",
      "Prewarm: ▁usein\n",
      "Prewarm: ▁vähä\n",
      "Prewarm: ▁kokonaan\n",
      "Prewarm: ▁.\n",
      "Prewarm: ▁.\n",
      "Prewarm: M\n",
      "Prewarm: ▁vuosina\n",
      "Prewarm: ▁on\n",
      "Prewarm: ▁ollut\n",
      "Prewarm: ▁tapahtunut\n",
      "Prewarm: ▁,\n",
      "Prewarm: ▁että\n",
      "Prewarm: ▁kaupunki\n",
      "Prewarm: ▁on\n",
      "Prewarm: ▁Helsingissä\n",
      "Prewarm: ▁ulkopuolella\n",
      "Prewarm: issa\n",
      "Prewarm: ▁on\n",
      "Prewarm: ▁on\n",
      "Prewarm: ▁Vantaalla\n",
      "Prewarm: ▁on\n",
      "Prewarm: tiin\n",
      "Prewarm: ▁.\n",
      "Prewarm: ▁ovat\n",
      "Prewarm: ▁kustannukset\n",
      "Prewarm: jen\n",
      "Prewarm: yyttä\n",
      "Prewarm: ▁on\n",
      "Final output:\n"
     ]
    },
    {
     "data": {
      "text/plain": [
       "'erittäin suurta . Kaupunginvaltuusto päätti viime viikolla esittää , että kaupunginhallitus käsittelee kaupungin asunto-osakeyhtiölain muuttamista . Kaupunginhallitus esittää , että kaupunginhallitus päättäisi , että kaupunginhallitus päättää antaa valtuutuksen kaupunginhallitukselle . Valtuuston puheenjohtajaksi on valittu kansanedustaja Kimmo Sasi . Valtuuston puheenjohtajana toimii liikenne- ja kuntaministeri Henna Virkkunen . Lue lisää  ⁇  Liikenne- ja viestintäministeriö on myöntänyt eduskunnalle esityksen , jolla se ehdottaa vesihuoltolaitoksen ja vesihuoltolaitoksen yhteistyötä vesihuoltolaitoksen kanssa . Lue'"
      ]
     },
     "execution_count": 6,
     "metadata": {},
     "output_type": "execute_result"
    }
   ],
   "source": [
    "import numpy as np\n",
    "\n",
    "#winner=tf.argmax(res,axis=-1)\n",
    "#print(winner[0][0].numpy())\n",
    "#dp.subword_model.IdToPiece(int(winner))\n",
    "\n",
    "def sample(preds, temperature=1.0):\n",
    "    # helper function to sample an index from a probability array\n",
    "    preds = np.asarray(preds).astype('float64')\n",
    "    preds = np.log(preds) / temperature\n",
    "    exp_preds = np.exp(preds)\n",
    "    preds = exp_preds / np.sum(exp_preds)\n",
    "    probas = np.random.multinomial(1, preds, 1)\n",
    "    return np.argmax(probas)\n",
    "\n",
    "def prewarm(txt,mod,dp):\n",
    "    reset_model(mod)\n",
    "    ids=dp.subword_model.EncodeAsIds(txt)\n",
    "    for i in ids:\n",
    "        inp=np.asarray([[i]],dtype=np.int64)\n",
    "        inp_t=tf.convert_to_tensor(inp,tf.int64)\n",
    "        res=mod(inp_t)\n",
    "        winner=tf.argmax(res,axis=-1)\n",
    "        spiece_id=winner[0][0].numpy()\n",
    "        sw=dp.subword_model.IdToPiece(int(spiece_id))\n",
    "        print(\"Prewarm:\",sw)\n",
    "    winner=tf.argmax(res,axis=-1)\n",
    "    spiece_id=winner[0][0].numpy()\n",
    "    return int(spiece_id)\n",
    "\n",
    "#prewarm_text=\"Meillä on siis pieni ongelma. Tai no oikeastaan aika suuri sellainen. 13-vuotias poikani haluaa nimittäin viikonloppuna mennä kaverinsa ja tämän perheen kanssa Ruotsin risteilylle. Kaveri siis itse ehdotti tätä ja poika haluaa todellakin mennä. Kaikki olisi minullekin täysin OK, jos poikani ei sattuisi olemaan\"\n",
    "#prewarm_text=\"Helsingin alla risteilee jopa yli satavuotisia vesiputkia. Ikä ei kuitenkaan yksin määritä putken kuntoa, ja siksi Helsingissäkään ei pystytä tekemään riskiarvioita vain sen perusteella\"\n",
    "prewarm_text=\"Kaupunkien tarpeet ovat Suomessa jääneet lähes tyystin sivuun. Viime vuosina on kuitenkin nähty, että Helsingissä ja sen naapureissa Espoossa ja Vantaalla vuokrat nousevat ja asumisen väljyys\"\n",
    "#prewarm_text=\"Vantaan terveysasemille hankittiin uusi puhelinpalvelu: soittajat jonottavat jopa 45 minuuttia\"\n",
    "#prewarm_text=\"Olipa kerran pieni prinsessa\"\n",
    "#prewarm_text=\"En mä vaan tiiä\"\n",
    "start=prewarm(prewarm_text,mod,dp)\n",
    "lst=[]\n",
    "for _ in range(100):\n",
    "    inp=np.asarray([[start]],dtype=np.int64)\n",
    "    inp_t=tf.convert_to_tensor(inp,tf.int64)\n",
    "    res=mod(inp_t)\n",
    "    probs=tf.squeeze(res).numpy()\n",
    "    winner=sample(probs,0.4)\n",
    "    #winner=np.random.choice(a=np.arange(probs.shape[0]),p=probs)\n",
    "    #print(\"argmax:\",tf.argmax(res,axis=-1))\n",
    "    #print(\"winner:\",winner)\n",
    "    spiece_id=winner\n",
    "    sw=dp.subword_model.IdToPiece(int(spiece_id))\n",
    "    lst.append(sw)\n",
    "    start=spiece_id\n",
    "print(\"Final output:\")\n",
    "dp.subword_model.DecodePieces(lst)\n",
    "\n"
   ]
  }
 ],
 "metadata": {
  "kernelspec": {
   "display_name": "tf12",
   "language": "python",
   "name": "tf12"
  },
  "language_info": {
   "codemirror_mode": {
    "name": "ipython",
    "version": 3
   },
   "file_extension": ".py",
   "mimetype": "text/x-python",
   "name": "python",
   "nbconvert_exporter": "python",
   "pygments_lexer": "ipython3",
   "version": "3.6.7"
  }
 },
 "nbformat": 4,
 "nbformat_minor": 2
}
